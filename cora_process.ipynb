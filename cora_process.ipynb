{
 "cells": [
  {
   "cell_type": "code",
   "execution_count": 1,
   "metadata": {},
   "outputs": [],
   "source": [
    "import node2vec"
   ]
  },
  {
   "cell_type": "code",
   "execution_count": null,
   "metadata": {},
   "outputs": [],
   "source": [
    "import networkx as nx\n",
    "import pandas as pd\n",
    "import numpy as np\n",
    "import random\n",
    "from gensim.models import Word2Vec"
   ]
  },
  {
   "cell_type": "code",
   "execution_count": null,
   "metadata": {},
   "outputs": [],
   "source": [
    "cora_address = 'D:/yuyicong/workspace/cora/cora/'\n",
    "cora_content = 'cora.content'\n",
    "cora_cite = 'cora.cites'"
   ]
  },
  {
   "cell_type": "code",
   "execution_count": null,
   "metadata": {},
   "outputs": [],
   "source": [
    "cora_edge = pd.read_table(cora_address+cora_cite,sep='\\t',names = ['src','dst'])\n",
    "G = nx.Graph()"
   ]
  },
  {
   "cell_type": "code",
   "execution_count": null,
   "metadata": {},
   "outputs": [],
   "source": [
    "node_dict = {i:v for v,i in enumerate(set(np.append(cora_edge.src.values,cora_edge.dst.values)))}\n",
    "cora_edge['src'] = cora_edge['src'].apply(lambda x: str(node_dict[x]))\n",
    "cora_edge['dst'] = cora_edge['dst'].apply(lambda x: str(node_dict[x]))"
   ]
  },
  {
   "cell_type": "code",
   "execution_count": null,
   "metadata": {},
   "outputs": [],
   "source": [
    "cora_edge_list = cora_edge.values.tolist()"
   ]
  },
  {
   "cell_type": "code",
   "execution_count": null,
   "metadata": {},
   "outputs": [],
   "source": [
    "def map_func(x):\n",
    "    return (x[0],x[1],{'weight':1})\n",
    "cora_edge_list = list(map(map_func,cora_edge_list))"
   ]
  },
  {
   "cell_type": "code",
   "execution_count": null,
   "metadata": {},
   "outputs": [],
   "source": [
    "G.add_edges_from(cora_edge_list)"
   ]
  },
  {
   "cell_type": "code",
   "execution_count": null,
   "metadata": {},
   "outputs": [],
   "source": [
    "def alias_setup(probs):\n",
    "    K = len(probs)\n",
    "    q = np.zeros(K)\n",
    "    J = np.zeros(K, dtype=np.int)\n",
    "\n",
    "    smaller = []\n",
    "    larger = []\n",
    "    for kk, prob in enumerate(probs):\n",
    "        q[kk] = K*prob\n",
    "        if q[kk] < 1.0:\n",
    "            smaller.append(kk)\n",
    "        else:\n",
    "            larger.append(kk)\n",
    "\n",
    "    while len(smaller) > 0 and len(larger) > 0:\n",
    "        small = smaller.pop()\n",
    "        large = larger.pop()\n",
    "\n",
    "        J[small] = large\n",
    "        q[large] = q[large] + q[small] - 1.0\n",
    "        if q[large] < 1.0:\n",
    "            smaller.append(large)\n",
    "        else:\n",
    "            larger.append(large)\n",
    "\n",
    "    return J, q\n",
    "\n",
    "def alias_draw(J, q):\n",
    "    K = len(J)\n",
    "\n",
    "    kk = int(np.floor(np.random.rand()*K))\n",
    "    if np.random.rand() < q[kk]:\n",
    "        return kk\n",
    "    else:\n",
    "        return J[kk]"
   ]
  },
  {
   "cell_type": "code",
   "execution_count": null,
   "metadata": {},
   "outputs": [],
   "source": [
    "class Node2Vec:\n",
    "    def __init__(self,G,p=1,q=1):\n",
    "        self.G = G\n",
    "        self.p = p\n",
    "        self.q = q\n",
    "    def get_alias_edge(self, src, dst):\n",
    "        G = self.G\n",
    "        p = self.p\n",
    "        q = self.q\n",
    "\n",
    "        unnormalized_probs = []\n",
    "        for dst_nbr in sorted(G.neighbors(dst)):\n",
    "            if dst_nbr == src:\n",
    "                unnormalized_probs.append(G[dst][dst_nbr]['weight']/p)\n",
    "            elif G.has_edge(dst_nbr, src):\n",
    "                unnormalized_probs.append(G[dst][dst_nbr]['weight'])\n",
    "            else:\n",
    "                unnormalized_probs.append(G[dst][dst_nbr]['weight']/q)\n",
    "        norm_const = sum(unnormalized_probs)\n",
    "        normalized_probs =  [float(u_prob)/norm_const for u_prob in unnormalized_probs]\n",
    "\n",
    "        return alias_setup(normalized_probs)\n",
    "    def preprocess_transition_probs(self):\n",
    "        G = self.G\n",
    "        alias_nodes = {}\n",
    "        for node in G.nodes():\n",
    "            # \n",
    "            unnormalized_probs = [G[node][nbr].get('weight', 1.0)\n",
    "                                  for nbr in G.neighbors(node)]\n",
    "            norm_const = sum(unnormalized_probs)\n",
    "            normalized_probs = [\n",
    "                float(u_prob)/norm_const for u_prob in unnormalized_probs]\n",
    "            alias_nodes[node] = alias_setup(normalized_probs)\n",
    "        alias_edges = {}\n",
    "        triads = {}\n",
    "        for edge in G.edges():\n",
    "            alias_edges[edge] = self.get_alias_edge(edge[0], edge[1])\n",
    "            alias_edges[(edge[1], edge[0])] = self.get_alias_edge(edge[1], edge[0])\n",
    "\n",
    "        self.alias_nodes = alias_nodes\n",
    "        self.alias_edges = alias_edges\n",
    "        return\n",
    "    def node2vec_walk(self,walk_length,start_node):\n",
    "        G = self.G\n",
    "        walk_list = [start_node]\n",
    "        while(len(walk_list)<walk_length):\n",
    "            curNode = walk_list[-1]\n",
    "            curNeighbor = list(G.neighbors(curNode))\n",
    "            if len(curNeighbor) > 0:\n",
    "                if len(walk_list) == 1:\n",
    "                    walk_list.append(curNeighbor[alias_draw(self.alias_nodes[curNode][0], self.alias_nodes[curNode][1])])\n",
    "                else:\n",
    "                    prev = walk_list[-2]\n",
    "                    next_Node = curNeighbor[alias_draw(self.alias_edges[(prev, curNode)][0], \n",
    "                        self.alias_edges[(prev, curNode)][1])]\n",
    "                    walk_list.append(next_Node)\n",
    "            else:\n",
    "                break\n",
    "#         print(walk_list)\n",
    "        return walk_list\n",
    "    def simulate_walks(self, num_walks, walk_length):\n",
    "        G = self.G\n",
    "        walks = []\n",
    "        nodes = list(G.nodes())\n",
    "        print('Walk iteration:')\n",
    "        for walk_iter in range(num_walks):\n",
    "            print(str(walk_iter+1), '/', str(num_walks))\n",
    "            random.shuffle(nodes)\n",
    "            for node in nodes:\n",
    "                walks.append(self.node2vec_walk(walk_length=walk_length, start_node=node))\n",
    "        self.walks = walks\n",
    "        return walks\n",
    "    def train(self,num_walks = 10 ,walk_length = 10, embed_size = 128, \n",
    "              window_size = 5, workers = 3, iter_num = 5, min_count = 0,\n",
    "             sg = 1, hs = 0):\n",
    "        self.preprocess_transition_probs()\n",
    "        _ = self.simulate_walks(num_walks,walk_length)\n",
    "        param = {}\n",
    "        param[\"sentences\"] = self.walks\n",
    "        param[\"min_count\"] = min_count\n",
    "        param[\"size\"] = embed_size\n",
    "        param[\"sg\"] = sg\n",
    "        param[\"hs\"] = hs  # node2vec not use Hierarchical Softmax\n",
    "        param[\"workers\"] = workers\n",
    "        param[\"window\"] = window_size\n",
    "        param[\"iter\"] = iter_num\n",
    "        \n",
    "        print('start word2vec training ...')\n",
    "        model = Word2Vec(**param)\n",
    "        print('done')\n",
    "        self.model = model\n",
    "        return model\n",
    "    def get_embedding(self):\n",
    "        if self.model is None:\n",
    "            print(\"model not train\")\n",
    "            return {}\n",
    "\n",
    "        self._embeddings = {}\n",
    "        for word in self.G.nodes():\n",
    "            self._embeddings[word] = self.model.wv[word]\n",
    "\n",
    "        return self._embeddings\n",
    "        \n",
    "        \n",
    "        "
   ]
  },
  {
   "cell_type": "code",
   "execution_count": null,
   "metadata": {},
   "outputs": [],
   "source": [
    "n2v = Node2Vec(G,1,1)"
   ]
  },
  {
   "cell_type": "code",
   "execution_count": null,
   "metadata": {},
   "outputs": [],
   "source": [
    "n2v.train()"
   ]
  },
  {
   "cell_type": "code",
   "execution_count": null,
   "metadata": {},
   "outputs": [],
   "source": []
  }
 ],
 "metadata": {
  "kernelspec": {
   "display_name": "Python 3",
   "language": "python",
   "name": "python3"
  },
  "language_info": {
   "codemirror_mode": {
    "name": "ipython",
    "version": 3
   },
   "file_extension": ".py",
   "mimetype": "text/x-python",
   "name": "python",
   "nbconvert_exporter": "python",
   "pygments_lexer": "ipython3",
   "version": "3.8.5"
  }
 },
 "nbformat": 4,
 "nbformat_minor": 4
}
