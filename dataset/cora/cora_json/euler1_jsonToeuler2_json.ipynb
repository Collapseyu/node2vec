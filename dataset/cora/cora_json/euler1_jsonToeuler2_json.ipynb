{
 "cells": [
  {
   "cell_type": "code",
   "execution_count": 1,
   "metadata": {},
   "outputs": [],
   "source": [
    "import json\n",
    "import ast\n",
    "from tqdm import tqdm_notebook"
   ]
  },
  {
   "cell_type": "code",
   "execution_count": 2,
   "metadata": {},
   "outputs": [],
   "source": [
    "euler2json={'nodes':[],'edges':[]}\n",
    "out_test = open('./direct_convert/cora_test.id', 'w')\n",
    "out = open('./direct_convert/data.json', 'w') "
   ]
  },
  {
   "cell_type": "code",
   "execution_count": 3,
   "metadata": {},
   "outputs": [],
   "source": [
    "def convert_euler1_line_to_euler2_line(tmp):\n",
    "    tmp_node_buf={}\n",
    "    tmp_node_buf['id']=tmp['node_id']\n",
    "    tmp_node_buf['type']=tmp['node_type']\n",
    "    tmp_node_buf['weight']=tmp['node_weight']\n",
    "    tmp_node_buf['features']=[]\n",
    "\n",
    "    for i in tmp['uint64_feature'].keys():\n",
    "        feat_tmp={}\n",
    "        feat_tmp['name'] = i\n",
    "        feat_tmp['type'] = 'sparse'\n",
    "        feat_tmp['value']=tmp['uint64_feature'][i]\n",
    "        tmp_node_buf['features'].append(feat_tmp)\n",
    "    for i in tmp['float_feature'].keys():\n",
    "        feat_tmp={}\n",
    "        feat_tmp['name'] = i\n",
    "        feat_tmp['type'] = 'dense'\n",
    "        feat_tmp['value']=tmp['float_feature'][i]\n",
    "        tmp_node_buf['features'].append(feat_tmp)\n",
    "    for i in tmp['binary_feature'].keys():\n",
    "        feat_tmp={}\n",
    "        feat_tmp['name'] = i\n",
    "        feat_tmp['type'] = 'binary'\n",
    "        feat_tmp['value']=tmp['binary_feature'][i]\n",
    "        tmp_node_buf['features'].append(feat_tmp)\n",
    "    euler2json['nodes'].append(tmp_node_buf)\n",
    "    if tmp_node_buf['type'] == 1:\n",
    "        out_test.write(str(tmp_node_buf['id']) + \"\\n\")\n",
    "    edge_tmp={}\n",
    "    for i in tmp['edge']:\n",
    "        edge_tmp['src'] = i['src_id'] \n",
    "        edge_tmp['dst'] = i['dst_id']\n",
    "        edge_tmp['type']= i['edge_type']\n",
    "        edge_tmp['weight'] = i['weight']\n",
    "        edge_tmp['features'] = []\n",
    "\n",
    "        for j in i['uint64_feature'].keys():\n",
    "            feat_tmp={}\n",
    "            feat_tmp['name'] = j\n",
    "            feat_tmp['type'] = 'sparse'\n",
    "            feat_tmp['value']=i['uint64_feature'][j]\n",
    "            edge_tmp['features'].append(feat_tmp)\n",
    "        for j in i['float_feature'].keys():\n",
    "            feat_tmp={}\n",
    "            feat_tmp['name'] = j\n",
    "            feat_tmp['type'] = 'dense'\n",
    "            feat_tmp['value']=i['float_feature'][j]\n",
    "            edge_tmp['features'].append(feat_tmp)\n",
    "        for j in i['binary_feature'].keys():\n",
    "            feat_tmp={}\n",
    "            feat_tmp['name'] = j\n",
    "            feat_tmp['type'] = 'binary'\n",
    "            feat_tmp['value']=i['binary_feature'][j]\n",
    "            edge_tmp['features'].append(feat_tmp)\n",
    "    euler2json['edges'].append(edge_tmp)"
   ]
  },
  {
   "cell_type": "code",
   "execution_count": 4,
   "metadata": {},
   "outputs": [
    {
     "name": "stderr",
     "output_type": "stream",
     "text": [
      "<ipython-input-4-11f798fde4ba>:1: TqdmDeprecationWarning: This function will be removed in tqdm==5.0.0\n",
      "Please use `tqdm.notebook.tqdm` instead of `tqdm.tqdm_notebook`\n",
      "  for line in tqdm_notebook(open('./data.json','r')):\n"
     ]
    },
    {
     "data": {
      "application/vnd.jupyter.widget-view+json": {
       "model_id": "ec58cf03f6ef40259fb855c148ba9ccc",
       "version_major": 2,
       "version_minor": 0
      },
      "text/plain": [
       "HBox(children=(HTML(value=''), FloatProgress(value=1.0, bar_style='info', layout=Layout(width='20px'), max=1.0…"
      ]
     },
     "metadata": {},
     "output_type": "display_data"
    },
    {
     "name": "stdout",
     "output_type": "stream",
     "text": [
      "\n"
     ]
    }
   ],
   "source": [
    "for line in tqdm_notebook(open('./data.json','r')):\n",
    "    line = ast.literal_eval(line)\n",
    "    convert_euler1_line_to_euler2_line(line)"
   ]
  },
  {
   "cell_type": "code",
   "execution_count": 5,
   "metadata": {},
   "outputs": [
    {
     "data": {
      "text/plain": [
       "20062927"
      ]
     },
     "execution_count": 5,
     "metadata": {},
     "output_type": "execute_result"
    }
   ],
   "source": [
    "out.write(json.dumps(euler2json))"
   ]
  },
  {
   "cell_type": "code",
   "execution_count": 6,
   "metadata": {},
   "outputs": [],
   "source": [
    "out.close()\n",
    "out_test.close()"
   ]
  },
  {
   "cell_type": "code",
   "execution_count": null,
   "metadata": {},
   "outputs": [],
   "source": [
    "euler2json['nodes'][0]"
   ]
  },
  {
   "cell_type": "code",
   "execution_count": null,
   "metadata": {},
   "outputs": [],
   "source": []
  }
 ],
 "metadata": {
  "kernelspec": {
   "display_name": "Python 3",
   "language": "python",
   "name": "python3"
  },
  "language_info": {
   "codemirror_mode": {
    "name": "ipython",
    "version": 3
   },
   "file_extension": ".py",
   "mimetype": "text/x-python",
   "name": "python",
   "nbconvert_exporter": "python",
   "pygments_lexer": "ipython3",
   "version": "3.8.5"
  }
 },
 "nbformat": 4,
 "nbformat_minor": 4
}
