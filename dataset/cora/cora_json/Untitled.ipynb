{
 "cells": [
  {
   "cell_type": "code",
   "execution_count": null,
   "metadata": {},
   "outputs": [],
   "source": [
    "import json\n",
    "import multiprocessing as mul"
   ]
  },
  {
   "cell_type": "code",
   "execution_count": null,
   "metadata": {},
   "outputs": [],
   "source": [
    "def convert_euler1_line_to_euler2_line(tmp,out_test):\n",
    "    tmp_node_buf={}\n",
    "    tmp_node_buf['id']=tmp['node_id']\n",
    "    tmp_node_buf['type']=tmp['node_type']\n",
    "    tmp_node_buf['weight']=tmp['node_weight']\n",
    "    tmp_node_buf['features']=[]\n",
    "\n",
    "    for i in tmp['uint64_feature'].keys():\n",
    "        feat_tmp={}\n",
    "        feat_tmp['name'] = i\n",
    "        feat_tmp['type'] = 'sparse'\n",
    "        feat_tmp['value']=tmp['uint64_feature'][i]\n",
    "        tmp_node_buf['features'].append(feat_tmp)\n",
    "    for i in tmp['float_feature'].keys():\n",
    "        feat_tmp={}\n",
    "        feat_tmp['name'] = i\n",
    "        feat_tmp['type'] = 'dense'\n",
    "        feat_tmp['value']=tmp['float_feature'][i]\n",
    "        tmp_node_buf['features'].append(feat_tmp)\n",
    "    for i in tmp['binary_feature'].keys():\n",
    "        feat_tmp={}\n",
    "        feat_tmp['name'] = i\n",
    "        feat_tmp['type'] = 'binary'\n",
    "        feat_tmp['value']=tmp['binary_feature'][i]\n",
    "        tmp_node_buf['features'].append(feat_tmp)\n",
    "    euler2json['nodes'].append(tmp_node_buf)\n",
    "    if tmp_node_buf['type'] == 1:\n",
    "        out_test.write(str(tmp_node_buf['id']) + \"\\n\")\n",
    "    for i in tmp['edge']:\n",
    "        edge_tmp={}\n",
    "        edge_tmp['src'] = i['src_id'] \n",
    "        edge_tmp['dst'] = i['dst_id']\n",
    "        edge_tmp['type']= i['edge_type']\n",
    "        edge_tmp['weight'] = i['weight']\n",
    "        edge_tmp['features'] = []\n",
    "\n",
    "        for j in i['uint64_feature'].keys():\n",
    "            feat_tmp={}\n",
    "            feat_tmp['name'] = j\n",
    "            feat_tmp['type'] = 'sparse'\n",
    "            feat_tmp['value']=i['uint64_feature'][j]\n",
    "            edge_tmp['features'].append(feat_tmp)\n",
    "        for j in i['float_feature'].keys():\n",
    "            feat_tmp={}\n",
    "            feat_tmp['name'] = j\n",
    "            feat_tmp['type'] = 'dense'\n",
    "            feat_tmp['value']=i['float_feature'][j]\n",
    "            edge_tmp['features'].append(feat_tmp)\n",
    "        for j in i['binary_feature'].keys():\n",
    "            feat_tmp={}\n",
    "            feat_tmp['name'] = j\n",
    "            feat_tmp['type'] = 'binary'\n",
    "            feat_tmp['value']=i['binary_feature'][j]\n",
    "            edge_tmp['features'].append(feat_tmp)\n",
    "    euler2json['edges'].append(edge_tmp)\n",
    "def convert_and_save(arg_total):\n",
    "    list_tmp = arg_total[0]\n",
    "    out_test = open('./direct_convert/cora_test_{}.id'.format(arg_total[1]), 'w')\n",
    "    out = open('./direct_convert/data.json'.format(arg_total[1]), 'w') \n",
    "    for line in list_tmp:\n",
    "        line = ast.literal_eval(line)\n",
    "        convert_euler1_line_to_euler2_line(line,out_test)\n",
    "    out.write(json.dumps(euler2json))\n",
    "    out_test.close()\n",
    "    out.close()\n"
   ]
  },
  {
   "cell_type": "code",
   "execution_count": null,
   "metadata": {},
   "outputs": [],
   "source": [
    "f = open('./data.json','r')\n",
    "tmpList = f.readlines()\n",
    "totalList = []\n",
    "step = len(tmpList)//4\n",
    "print(step)"
   ]
  },
  {
   "cell_type": "code",
   "execution_count": null,
   "metadata": {},
   "outputs": [],
   "source": [
    "for i in range(4):\n",
    "    if i==3:\n",
    "        totalList.append(tmpList[step*i:])\n",
    "    else:\n",
    "        totalList.append(tmpList[step*i:step*(i+1)])"
   ]
  },
  {
   "cell_type": "code",
   "execution_count": null,
   "metadata": {},
   "outputs": [],
   "source": [
    "if __name__ == '__main__':\n",
    "    pool = mul.Pool(4)\n",
    "    rel = pool.map(convert_and_save,[(totalList[i],i) for i in range(4)])"
   ]
  },
  {
   "cell_type": "code",
   "execution_count": null,
   "metadata": {},
   "outputs": [],
   "source": []
  }
 ],
 "metadata": {
  "kernelspec": {
   "display_name": "Python 3",
   "language": "python",
   "name": "python3"
  },
  "language_info": {
   "codemirror_mode": {
    "name": "ipython",
    "version": 3
   },
   "file_extension": ".py",
   "mimetype": "text/x-python",
   "name": "python",
   "nbconvert_exporter": "python",
   "pygments_lexer": "ipython3",
   "version": "3.8.5"
  }
 },
 "nbformat": 4,
 "nbformat_minor": 4
}
